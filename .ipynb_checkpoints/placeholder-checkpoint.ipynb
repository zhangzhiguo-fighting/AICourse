{
 "cells": [
  {
   "cell_type": "code",
   "execution_count": 3,
   "metadata": {},
   "outputs": [
    {
     "name": "stdout",
     "output_type": "stream",
     "text": [
      "[6. 8.]\n"
     ]
    }
   ],
   "source": [
    "import tensorflow as tf\n",
    "\n",
    "a = tf.placeholder (tf.float32, shape = (2), name = \"a\")\n",
    "b = tf.placeholder (tf.float32, shape = (2), name = \"b\")\n",
    "\n",
    "with tf.Session() as sess:\n",
    "    print (sess.run(tf.add(a, b), feed_dict = {a:[2.0, 3.0], b:[4.0, 5.0]}))"
   ]
  },
  {
   "cell_type": "code",
   "execution_count": 6,
   "metadata": {},
   "outputs": [
    {
     "name": "stdout",
     "output_type": "stream",
     "text": [
      "Tensor(\"add_1:0\", shape=(3, 2), dtype=float32)\n",
      "[[ 4.  5.]\n",
      " [ 6. 11.]\n",
      " [10. 15.]]\n"
     ]
    }
   ],
   "source": [
    "c = tf.placeholder (tf.float32, shape = (2, ), name = \"c\")\n",
    "d = tf.placeholder (tf.float32, shape = (3, 2), name = \"d\")\n",
    "e = c + d;\n",
    "print(e)\n",
    "\n",
    "with tf.Session() as sess:\n",
    "    print(sess.run(e, feed_dict = {c:[1.0, 4.0], d:[[3.0, 1.0], [5.0, 7.0], [9.0, 11.0]]}))"
   ]
  },
  {
   "cell_type": "code",
   "execution_count": null,
   "metadata": {},
   "outputs": [],
   "source": []
  }
 ],
 "metadata": {
  "kernelspec": {
   "display_name": "Python 3",
   "language": "python",
   "name": "python3"
  },
  "language_info": {
   "codemirror_mode": {
    "name": "ipython",
    "version": 3
   },
   "file_extension": ".py",
   "mimetype": "text/x-python",
   "name": "python",
   "nbconvert_exporter": "python",
   "pygments_lexer": "ipython3",
   "version": "3.7.4"
  }
 },
 "nbformat": 4,
 "nbformat_minor": 2
}
